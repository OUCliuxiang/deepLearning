{
 "cells": [
  {
   "cell_type": "markdown",
   "metadata": {
    "id": "k5KG2b0WRpH9"
   },
   "source": [
    "基于Google Colab使用pytorch框架进行试验。    \n",
    "导入相关包后，进入作业路径，并打印数据集路径下内容。如果没有该路径，或该路径下无数据，则需导入数据。"
   ]
  },
  {
   "cell_type": "code",
   "execution_count": 36,
   "metadata": {
    "colab": {
     "base_uri": "https://localhost:8080/"
    },
    "id": "4C4kJH8y_vZe",
    "outputId": "d61794ce-6522-452f-da70-4ede0ba4bbaa"
   },
   "outputs": [
    {
     "data": {
      "text/plain": [
       "['imdb.vocab',\n",
       " 'test',\n",
       " 'imdbEr.txt',\n",
       " 'README',\n",
       " 'train',\n",
       " 'train.csv',\n",
       " '.ipynb_checkpoints']"
      ]
     },
     "execution_count": 36,
     "metadata": {
      "tags": []
     },
     "output_type": "execute_result"
    }
   ],
   "source": [
    "import os \n",
    "import sys \n",
    "import pandas as pd \n",
    "import numpy as np \n",
    "import csv\n",
    "\n",
    "import torch \n",
    "import torch.nn as nn\n",
    "import torch.nn.functional as F\n",
    "from torch.utils.data import TensorDataset, DataLoader\n",
    "\n",
    "from collections import Counter\n",
    "from tqdm import tqdm\n",
    "\n",
    "\n",
    "os.chdir(\"/content/drive/MyDrive/DL2021Spring\")\n",
    "os.listdir(os.path.join(os.path.abspath(\"\"), \"aclImdb\"))"
   ]
  },
  {
   "cell_type": "markdown",
   "metadata": {
    "id": "jcKgYJHRSIKQ"
   },
   "source": [
    "使用GPU。"
   ]
  },
  {
   "cell_type": "code",
   "execution_count": 37,
   "metadata": {
    "colab": {
     "base_uri": "https://localhost:8080/"
    },
    "id": "CzYlu1rcENwu",
    "outputId": "6c180270-3816-435d-850c-1e00a13e3575"
   },
   "outputs": [
    {
     "name": "stdout",
     "output_type": "stream",
     "text": [
      "GPU is available\n"
     ]
    }
   ],
   "source": [
    "is_cuda = torch.cuda.is_available()\n",
    "\n",
    "# If we have a GPU available, we'll set our device to GPU. We'll use this device variable later in our code.\n",
    "if is_cuda:\n",
    "    device = torch.device(\"cuda\")\n",
    "    print(\"GPU is available\")\n",
    "else:\n",
    "    device = torch.device(\"cpu\")\n",
    "    print(\"GPU not available, CPU used\")"
   ]
  },
  {
   "cell_type": "markdown",
   "metadata": {
    "id": "NS04IvBtSL6d"
   },
   "source": [
    "在ppt给定下载地址down下数据集，并解压缩。"
   ]
  },
  {
   "cell_type": "code",
   "execution_count": null,
   "metadata": {
    "colab": {
     "base_uri": "https://localhost:8080/"
    },
    "id": "a_ZBMPthAbz_",
    "outputId": "8b5f92b7-fb56-4d11-f2de-f58c6a5fb135"
   },
   "outputs": [
    {
     "name": "stdout",
     "output_type": "stream",
     "text": [
      "--2021-06-14 10:15:05--  http://ai.stanford.edu/~amaas/data/sentiment/aclImdb_v1.tar.gz\n",
      "Resolving ai.stanford.edu (ai.stanford.edu)... 171.64.68.10\n",
      "Connecting to ai.stanford.edu (ai.stanford.edu)|171.64.68.10|:80... connected.\n",
      "HTTP request sent, awaiting response... 200 OK\n",
      "Length: 84125825 (80M) [application/x-gzip]\n",
      "Saving to: ‘aclImdb_v1.tar.gz’\n",
      "\n",
      "aclImdb_v1.tar.gz   100%[===================>]  80.23M  25.6MB/s    in 3.1s    \n",
      "\n",
      "2021-06-14 10:15:08 (25.6 MB/s) - ‘aclImdb_v1.tar.gz’ saved [84125825/84125825]\n",
      "\n"
     ]
    }
   ],
   "source": [
    "!wget http://ai.stanford.edu/~amaas/data/sentiment/aclImdb_v1.tar.gz\n",
    "!tar -zxvf aclImdb_v1.tar.gz"
   ]
  },
  {
   "cell_type": "markdown",
   "metadata": {
    "id": "hLxyUMkQSXqH"
   },
   "source": [
    "csv格式比txt处理起来更高效一点，将数据集中的独立txt文档批量写入到csv。"
   ]
  },
  {
   "cell_type": "code",
   "execution_count": 20,
   "metadata": {
    "id": "3JahpGWTD5iV"
   },
   "outputs": [],
   "source": [
    "def txt2csv(path):\n",
    "  \"\"\"\n",
    "  @ Params:\n",
    "  path: str, \"train\" or \"test\"\n",
    "  \"\"\"\n",
    "  if not ( path == \"train\" or path == \"test\"):\n",
    "    sys.stderr.write(\"invalid params input.\")\n",
    "    return -1\n",
    "  posPath = os.path.join(os.path.abspath(\"\"), \"aclImdb\", path, \"pos\")\n",
    "  negPath = os.path.join(os.path.abspath(\"\"), \"aclImdb\", path, \"neg\")\n",
    "  csvPath = os.path.join(os.path.abspath(\"\"), \"aclImdb\", path +\".csv\")\n",
    "  posFiles = os.listdir(posPath)\n",
    "  negFiles = os.listdir(negPath)\n",
    "  # files = posFiles + negFiles\n",
    "  # files.sort()\n",
    "  with open(csvPath, \"a+\", newline='', encoding='utf-8') as csvFile:\n",
    "    writer = csv.writer(csvFile, dialect='excel')\n",
    "    for posFile in posFiles:\n",
    "      with open(os.path.join(posPath, posFile), 'r') as pf:\n",
    "        content = pf.readline()\n",
    "        line = [content, 'positive']\n",
    "        writer.writerow(line)\n",
    "  \n",
    "  with open(csvPath, \"a+\", newline='', encoding='utf-8') as csvFile:\n",
    "    writer = csv.writer(csvFile, dialect='excel')\n",
    "    for negFile in negFiles:\n",
    "      with open(os.path.join(negPath, negFile), 'r') as nf:\n",
    "        content = nf.readline()\n",
    "        line = [content, 'negative']\n",
    "        writer.writerow(line)\n"
   ]
  },
  {
   "cell_type": "markdown",
   "metadata": {
    "id": "Bxr8-Ny5So1e"
   },
   "source": [
    "我们采取的是追加写入模式，由于此前已经生成了相应csv，这里就不去运行转换函数了。"
   ]
  },
  {
   "cell_type": "code",
   "execution_count": null,
   "metadata": {
    "id": "YfcKtLtJK0eZ"
   },
   "outputs": [],
   "source": [
    "txt2csv(\"train\")\n",
    "txt2csv(\"test\")"
   ]
  },
  {
   "cell_type": "markdown",
   "metadata": {
    "id": "xhvCmtJyS0Z2"
   },
   "source": [
    "打印头尾，简单验证下写入的csv格式为第一列数据，第二列标签。    \n",
    "有几个需要注意的地方：    \n",
    "1. 写入`test.csv`的时候出现了一行多列（大于2）数据。便利检查字符子串，问题出现在`688_4.txt`文件，原因未知。处理方案是手动删去这一行。    \n",
    "2. 验证性的实验，没有过多考虑异常情况。于是网络对数据的要求较为严格，必须每个batch为50条数据，但是生成的`test.csv`只有24998行。处理方法是手动复制了两行重复数据补齐到25000。     \n",
    "3. 自己添加表头。\n"
   ]
  },
  {
   "cell_type": "code",
   "execution_count": 38,
   "metadata": {
    "colab": {
     "base_uri": "https://localhost:8080/"
    },
    "id": "UokegeUCLV7B",
    "outputId": "79a23e18-bead-40fe-b19f-d6ec882b253c"
   },
   "outputs": [
    {
     "name": "stdout",
     "output_type": "stream",
     "text": [
      "                                              review sentiment\n",
      "0  Bromwell High is a cartoon comedy. It ran at t...  positive\n",
      "1  Homelessness (or Houselessness as George Carli...  positive\n",
      "2  Brilliant over-acting by Lesley Ann Warren. Be...  positive\n",
      "3  This is easily the most underrated film inn th...  positive\n",
      "4  This is not the typical Mel Brooks film. It wa...  positive\n",
      "(25000, 2)\n",
      "                                                  review sentiment\n",
      "24995  I occasionally let my kids watch this garbage ...  negative\n",
      "24996  When all we have anymore is pretty much realit...  negative\n",
      "24997  The basic genre is a thriller intercut with an...  negative\n",
      "24998  Four things intrigued me as to this film - fir...  negative\n",
      "24999  David Bryce's comments nearby are exceptionall...  negative\n",
      "(25000, 2)\n"
     ]
    }
   ],
   "source": [
    "train_csv = pd.read_csv(os.path.join(os.path.abspath(\"\"), \"aclImdb\", \"train.csv\"), header=None)\n",
    "train_csv.columns = [\"review\", \"sentiment\"]\n",
    "print(train_csv.head())\n",
    "print(train_csv.shape)\n",
    "\n",
    "test_csv = pd.read_csv(os.path.join(os.path.abspath(\"\"), \"aclImdb\", \"test.csv\"), engine='python', header=None)\n",
    "test_csv.columns = [\"review\", \"sentiment\"]\n",
    "print(test_csv.tail())\n",
    "print(test_csv.shape)\n",
    "\n"
   ]
  },
  {
   "cell_type": "markdown",
   "metadata": {
    "id": "8F1PD0SAUbiR"
   },
   "source": [
    "从pandas读取格式数据里取出数据值。"
   ]
  },
  {
   "cell_type": "code",
   "execution_count": 39,
   "metadata": {
    "colab": {
     "base_uri": "https://localhost:8080/"
    },
    "id": "zG5L71eUfTBf",
    "outputId": "3f8e764b-d931-4935-a693-2f15fd33b7ed"
   },
   "outputs": [
    {
     "name": "stdout",
     "output_type": "stream",
     "text": [
      "['positive' 'positive' 'positive' ... 'negative' 'negative' 'negative']\n"
     ]
    }
   ],
   "source": [
    "x_train, y_train = train_csv[\"review\"].values, train_csv[\"sentiment\"].values\n",
    "x_test, y_test = test_csv[\"review\"].values, test_csv[\"sentiment\"].values\n",
    "print(y_test)"
   ]
  },
  {
   "cell_type": "markdown",
   "metadata": {
    "id": "79zkI4SgUjsA"
   },
   "source": [
    "查看类分布情况。两类数据很简单，没有类不均衡，甚至非常均衡。"
   ]
  },
  {
   "cell_type": "code",
   "execution_count": 40,
   "metadata": {
    "colab": {
     "base_uri": "https://localhost:8080/",
     "height": 283
    },
    "id": "bD_rDHQQgpMU",
    "outputId": "1d075cd0-f605-4d5c-8022-94927e2602e3"
   },
   "outputs": [
    {
     "data": {
      "text/plain": [
       "<function matplotlib.pyplot.show>"
      ]
     },
     "execution_count": 40,
     "metadata": {
      "tags": []
     },
     "output_type": "execute_result"
    },
    {
     "data": {
      "image/png": "[encoded data removed]",
      "text/plain": [
       "<Figure size 432x288 with 1 Axes>"
      ]
     },
     "metadata": {
      "needs_background": "light",
      "tags": []
     },
     "output_type": "display_data"
    }
   ],
   "source": [
    "import matplotlib.pyplot as plt\n",
    "import seaborn as sns\n",
    "dd = pd.Series(y_train).value_counts()\n",
    "sns.barplot(x=np.array([\"positive\", \"negative\"]), y=dd.values)\n",
    "plt.show"
   ]
  },
  {
   "cell_type": "markdown",
   "metadata": {
    "id": "6gjcs200Uzog"
   },
   "source": [
    "分词，顺带去掉那些奇奇怪怪的字符，只留下英文字符。    \n",
    "返回分词、筛选、one-hot化等操作处理后的数据。"
   ]
  },
  {
   "cell_type": "code",
   "execution_count": 41,
   "metadata": {
    "colab": {
     "base_uri": "https://localhost:8080/"
    },
    "id": "RCtCo76ukJyj",
    "outputId": "5e0ff443-6a0c-49b1-8eed-71e3e5e4e8ec"
   },
   "outputs": [
    {
     "name": "stdout",
     "output_type": "stream",
     "text": [
      "[nltk_data] Downloading package stopwords to /root/nltk_data...\n",
      "[nltk_data]   Package stopwords is already up-to-date!\n"
     ]
    }
   ],
   "source": [
    "import re\n",
    "import string\n",
    "from nltk.corpus import stopwords\n",
    "from collections import Counter\n",
    "import nltk\n",
    "nltk.download(\"stopwords\")\n",
    "\n",
    "def preprocess_string(s):\n",
    "    # Remove all non-word characters (everything except numbers and letters)\n",
    "    s = re.sub(r\"[^\\w\\s]\", '', s)\n",
    "    # Replace all runs of whitespaces with no space\n",
    "    s = re.sub(r\"\\s+\", '', s)\n",
    "    # replace digits with no space\n",
    "    s = re.sub(r\"\\d\", '', s)\n",
    "\n",
    "    return s\n",
    "\n",
    "def tockenize(x_train,y_train,x_val,y_val):\n",
    "    word_list = []\n",
    "\n",
    "    stop_words = set(stopwords.words('english')) \n",
    "    for sent in x_train:\n",
    "        for word in sent.lower().split():\n",
    "            word = preprocess_string(word)\n",
    "            if word not in stop_words and word != '':\n",
    "                word_list.append(word)\n",
    "  \n",
    "    corpus = Counter(word_list)\n",
    "    # sorting on the basis of most common words\n",
    "    corpus_ = sorted(corpus,key=corpus.get,reverse=True)[:1000]\n",
    "    # creating a dict\n",
    "    onehot_dict = {w:i+1 for i,w in enumerate(corpus_)}\n",
    "    \n",
    "    # tockenize\n",
    "    final_list_train,final_list_test = [],[]\n",
    "    for sent in x_train:\n",
    "            final_list_train.append([onehot_dict[preprocess_string(word)] for word in sent.lower().split() \n",
    "                                     if preprocess_string(word) in onehot_dict.keys()])\n",
    "    for sent in x_val:\n",
    "            final_list_test.append([onehot_dict[preprocess_string(word)] for word in sent.lower().split() \n",
    "                                    if preprocess_string(word) in onehot_dict.keys()])\n",
    "            \n",
    "    encoded_train = [1 if label =='positive' else 0 for label in y_train]  \n",
    "    encoded_test = [1 if label =='positive' else 0 for label in y_val] \n",
    "    return np.array(final_list_train), np.array(encoded_train),np.array(final_list_test), np.array(encoded_test),onehot_dict\n"
   ]
  },
  {
   "cell_type": "code",
   "execution_count": 42,
   "metadata": {
    "colab": {
     "base_uri": "https://localhost:8080/"
    },
    "id": "oGgmxp9Ek2pa",
    "outputId": "bcc507a8-7cb1-4be5-bfc1-345deaa4d764"
   },
   "outputs": [
    {
     "name": "stderr",
     "output_type": "stream",
     "text": [
      "/usr/local/lib/python3.7/dist-packages/ipykernel_launcher.py:45: VisibleDeprecationWarning: Creating an ndarray from ragged nested sequences (which is a list-or-tuple of lists-or-tuples-or ndarrays with different lengths or shapes) is deprecated. If you meant to do this, you must specify 'dtype=object' when creating the ndarray\n"
     ]
    }
   ],
   "source": [
    "x_train,y_train,x_test,y_test,vocab = tockenize(x_train,y_train,x_test,y_test)"
   ]
  },
  {
   "cell_type": "markdown",
   "metadata": {
    "id": "Lz_6lchKWdd7"
   },
   "source": [
    "打印一下词典长度，不打印也没事儿。"
   ]
  },
  {
   "cell_type": "code",
   "execution_count": 43,
   "metadata": {
    "colab": {
     "base_uri": "https://localhost:8080/"
    },
    "id": "u7Mpo6Fjk847",
    "outputId": "fac9aaff-119a-4bd0-fc61-aa14d4324686"
   },
   "outputs": [
    {
     "name": "stdout",
     "output_type": "stream",
     "text": [
      "Length of vocabulary is 1000\n"
     ]
    }
   ],
   "source": [
    "print(f'Length of vocabulary is {len(vocab)}')"
   ]
  },
  {
   "cell_type": "markdown",
   "metadata": {
    "id": "KBsCuGHCWijm"
   },
   "source": [
    "对每条评论的长度（包含的单词数）进行统计分析顺便可视化。"
   ]
  },
  {
   "cell_type": "code",
   "execution_count": 44,
   "metadata": {
    "colab": {
     "base_uri": "https://localhost:8080/",
     "height": 430
    },
    "id": "IMBznqFJl8C5",
    "outputId": "d24e0e7b-a843-4490-dbc5-899ffd11df52"
   },
   "outputs": [
    {
     "data": {
      "image/png": "[encoded data removed]",
      "text/plain": [
       "<Figure size 432x288 with 1 Axes>"
      ]
     },
     "metadata": {
      "needs_background": "light",
      "tags": []
     },
     "output_type": "display_data"
    },
    {
     "data": {
      "text/plain": [
       "count    25000.000000\n",
       "mean        69.913360\n",
       "std         48.759665\n",
       "min          2.000000\n",
       "25%         39.000000\n",
       "50%         55.000000\n",
       "75%         85.000000\n",
       "max        545.000000\n",
       "dtype: float64"
      ]
     },
     "execution_count": 44,
     "metadata": {
      "tags": []
     },
     "output_type": "execute_result"
    }
   ],
   "source": [
    "rev_len = [len(i) for i in x_train]\n",
    "pd.Series(rev_len).hist()\n",
    "plt.show()\n",
    "pd.Series(rev_len).describe()"
   ]
  },
  {
   "cell_type": "markdown",
   "metadata": {
    "id": "FLhY5tjJWtR8"
   },
   "source": [
    "填充每条评论为500词。"
   ]
  },
  {
   "cell_type": "code",
   "execution_count": 45,
   "metadata": {
    "id": "Tq7HOZqHmEia"
   },
   "outputs": [],
   "source": [
    "def padding_(sentences, seq_len):\n",
    "    features = np.zeros((len(sentences), seq_len),dtype=int)\n",
    "    for ii, review in enumerate(sentences):\n",
    "        if len(review) != 0:\n",
    "            features[ii, -len(review):] = np.array(review)[:seq_len]\n",
    "    return features"
   ]
  },
  {
   "cell_type": "code",
   "execution_count": 46,
   "metadata": {
    "id": "8cCYkpN4DgHI"
   },
   "outputs": [],
   "source": [
    "x_train_pad = padding_(x_train,500)\n",
    "x_test_pad = padding_(x_test,500)\n"
   ]
  },
  {
   "cell_type": "markdown",
   "metadata": {
    "id": "gfPrGghEW2VD"
   },
   "source": [
    "torch.utils.data.TensorLoader加载数据为Tensor格式。"
   ]
  },
  {
   "cell_type": "code",
   "execution_count": 47,
   "metadata": {
    "id": "ansWMjgQDiN-"
   },
   "outputs": [],
   "source": [
    "# create Tensor datasets\n",
    "train_data = TensorDataset(torch.from_numpy(x_train_pad), torch.from_numpy(y_train))\n",
    "valid_data = TensorDataset(torch.from_numpy(x_test_pad), torch.from_numpy(y_test))\n",
    "\n",
    "# dataloaders\n",
    "batch_size = 50\n",
    "\n",
    "# make sure to SHUFFLE your data\n",
    "train_loader = DataLoader(train_data, shuffle=True, batch_size=batch_size)\n",
    "valid_loader = DataLoader(valid_data, shuffle=True, batch_size=batch_size)"
   ]
  },
  {
   "cell_type": "code",
   "execution_count": 48,
   "metadata": {
    "colab": {
     "base_uri": "https://localhost:8080/"
    },
    "id": "vqE1pFOxGPft",
    "outputId": "e6c2ca0c-368d-4cdc-a3b2-e443983b906c"
   },
   "outputs": [
    {
     "name": "stdout",
     "output_type": "stream",
     "text": [
      "Sample input size:  torch.Size([50, 500])\n",
      "Sample input: \n",
      " tensor([[  0,   0,   0,  ...,   5, 147,   3],\n",
      "        [  0,   0,   0,  ..., 170,   4, 160],\n",
      "        [  0,   0,   0,  ..., 357,  25,  81],\n",
      "        ...,\n",
      "        [  0,   0,   0,  ..., 182,   2,  42],\n",
      "        [  0,   0,   0,  ..., 327,  59,  64],\n",
      "        [  0,   0,   0,  ..., 201,  39, 180]])\n",
      "Sample input: \n",
      " tensor([1, 0, 1, 0, 1, 0, 1, 1, 1, 1, 0, 0, 1, 0, 1, 1, 0, 0, 1, 1, 1, 1, 1, 0,\n",
      "        1, 1, 0, 1, 1, 1, 0, 0, 0, 1, 0, 0, 1, 0, 0, 1, 1, 0, 0, 1, 0, 0, 0, 1,\n",
      "        0, 1])\n"
     ]
    }
   ],
   "source": [
    "# obtain one batch of training data\n",
    "dataiter = iter(train_loader)\n",
    "sample_x, sample_y = dataiter.next()\n",
    "\n",
    "print('Sample input size: ', sample_x.size()) # batch_size, seq_length\n",
    "print('Sample input: \\n', sample_x)\n",
    "print('Sample input: \\n', sample_y)"
   ]
  },
  {
   "cell_type": "markdown",
   "metadata": {
    "id": "3pJfgL12XHd4"
   },
   "source": [
    "搭建LSTM模型。"
   ]
  },
  {
   "cell_type": "code",
   "execution_count": 49,
   "metadata": {
    "id": "8C_b7IzPGRgl"
   },
   "outputs": [],
   "source": [
    "class SentimentRNN(nn.Module):\n",
    "    def __init__(self,no_layers,vocab_size,hidden_dim,embedding_dim,drop_prob=0.5):\n",
    "        super(SentimentRNN,self).__init__()\n",
    " \n",
    "        self.output_dim = output_dim\n",
    "        self.hidden_dim = hidden_dim\n",
    " \n",
    "        self.no_layers = no_layers\n",
    "        self.vocab_size = vocab_size\n",
    "    \n",
    "        # embedding and LSTM layers\n",
    "        self.embedding = nn.Embedding(vocab_size, embedding_dim)\n",
    "        \n",
    "        #lstm\n",
    "        self.lstm = nn.LSTM(input_size=embedding_dim,hidden_size=self.hidden_dim,\n",
    "                           num_layers=no_layers, batch_first=True)\n",
    "        \n",
    "        \n",
    "        # dropout layer\n",
    "        self.dropout = nn.Dropout(0.3)\n",
    "    \n",
    "        # linear and sigmoid layer\n",
    "        self.fc = nn.Linear(self.hidden_dim, output_dim)\n",
    "        self.sig = nn.Sigmoid()\n",
    "        \n",
    "    def forward(self,x,hidden):\n",
    "        batch_size = x.size(0)\n",
    "        # embeddings and lstm_out\n",
    "        embeds = self.embedding(x)  # shape: B x S x Feature   since batch = True\n",
    "        #print(embeds.shape)  #[50, 500, 1000]\n",
    "        lstm_out, hidden = self.lstm(embeds, hidden)\n",
    "        \n",
    "        lstm_out = lstm_out.contiguous().view(-1, self.hidden_dim) \n",
    "        \n",
    "        # dropout and fully connected layer\n",
    "        out = self.dropout(lstm_out)\n",
    "        out = self.fc(out)\n",
    "        \n",
    "        # sigmoid function\n",
    "        sig_out = self.sig(out)\n",
    "        \n",
    "        # reshape to be batch_size first\n",
    "        sig_out = sig_out.view(batch_size, -1)\n",
    "\n",
    "        sig_out = sig_out[:, -1] # get last batch of labels\n",
    "        \n",
    "        # return last sigmoid output and hidden state\n",
    "        return sig_out, hidden\n",
    "        \n",
    "        \n",
    "        \n",
    "    def init_hidden(self, batch_size):\n",
    "        ''' Initializes hidden state '''\n",
    "        # Create two new tensors with sizes n_layers x batch_size x hidden_dim,\n",
    "        # initialized to zero, for hidden state and cell state of LSTM\n",
    "        h0 = torch.zeros((self.no_layers,batch_size,self.hidden_dim)).to(device)\n",
    "        c0 = torch.zeros((self.no_layers,batch_size,self.hidden_dim)).to(device)\n",
    "        hidden = (h0,c0)\n",
    "        return hidden\n",
    "\n",
    "              "
   ]
  },
  {
   "cell_type": "markdown",
   "metadata": {
    "id": "GugQrF0XXahK"
   },
   "source": [
    "网络超参数。"
   ]
  },
  {
   "cell_type": "code",
   "execution_count": 50,
   "metadata": {
    "colab": {
     "base_uri": "https://localhost:8080/"
    },
    "id": "ZincZY4IGZ0d",
    "outputId": "a87c0fb4-ccaa-4441-d357-dbca0c41370d"
   },
   "outputs": [
    {
     "name": "stdout",
     "output_type": "stream",
     "text": [
      "SentimentRNN(\n",
      "  (embedding): Embedding(1001, 64)\n",
      "  (lstm): LSTM(64, 256, num_layers=2, batch_first=True)\n",
      "  (dropout): Dropout(p=0.3, inplace=False)\n",
      "  (fc): Linear(in_features=256, out_features=1, bias=True)\n",
      "  (sig): Sigmoid()\n",
      ")\n"
     ]
    }
   ],
   "source": [
    "no_layers = 2\n",
    "vocab_size = len(vocab) + 1 #extra 1 for padding\n",
    "embedding_dim = 64\n",
    "output_dim = 1\n",
    "hidden_dim = 256\n",
    "\n",
    "\n",
    "model = SentimentRNN(no_layers,vocab_size,hidden_dim,embedding_dim,drop_prob=0.5)\n",
    "\n",
    "#moving to gpu\n",
    "model.to(device)\n",
    "\n",
    "print(model)"
   ]
  },
  {
   "cell_type": "markdown",
   "metadata": {
    "id": "Hk7fhcbZXe1W"
   },
   "source": [
    "指定损失、优化、学习策略。"
   ]
  },
  {
   "cell_type": "code",
   "execution_count": 51,
   "metadata": {
    "id": "zh79SFv4GlqF"
   },
   "outputs": [],
   "source": [
    "# loss and optimization functions\n",
    "lr=0.001\n",
    "\n",
    "criterion = nn.BCELoss()\n",
    "\n",
    "optimizer = torch.optim.Adam(model.parameters(), lr=lr)\n",
    "\n",
    "# function to predict accuracy\n",
    "def acc(pred,label):\n",
    "    pred = torch.round(pred.squeeze())\n",
    "    return torch.sum(pred == label.squeeze()).item()"
   ]
  },
  {
   "cell_type": "markdown",
   "metadata": {
    "id": "-itna7gIXkAG"
   },
   "source": [
    "固定学习率跑10个epoch验证下。之前已经跑过5个epoch了，网络本身已经不错了，所以整体上升不太明显。"
   ]
  },
  {
   "cell_type": "code",
   "execution_count": 53,
   "metadata": {
    "colab": {
     "base_uri": "https://localhost:8080/"
    },
    "id": "zH8qo72BGqxf",
    "outputId": "d7763a13-8cd8-4e8b-e53c-15de3a2b101e"
   },
   "outputs": [
    {
     "name": "stdout",
     "output_type": "stream",
     "text": [
      "Epoch 1\n",
      "train_loss : 0.2781439098417759 val_loss : 0.34429263062775134\n",
      "train_accuracy : 88.376 val_accuracy : 84.89999999999999\n",
      "Validation loss decreased (inf --> 0.344293).  Saving model ...\n",
      "==================================================\n",
      "Epoch 2\n",
      "train_loss : 0.24326414647698402 val_loss : 0.3482039065510035\n",
      "train_accuracy : 89.992 val_accuracy : 85.396\n",
      "==================================================\n",
      "Epoch 3\n",
      "train_loss : 0.19033577992022038 val_loss : 0.44427646946907046\n",
      "train_accuracy : 92.376 val_accuracy : 85.068\n",
      "==================================================\n",
      "Epoch 4\n",
      "train_loss : 0.12702367993816732 val_loss : 0.5122180151194334\n",
      "train_accuracy : 95.148 val_accuracy : 84.832\n",
      "==================================================\n",
      "Epoch 5\n",
      "train_loss : 0.07448619556427002 val_loss : 0.5959768433272838\n",
      "train_accuracy : 97.344 val_accuracy : 83.464\n",
      "==================================================\n",
      "Epoch 6\n",
      "train_loss : 0.046698180798674 val_loss : 0.7310091669559479\n",
      "train_accuracy : 98.36399999999999 val_accuracy : 83.872\n",
      "==================================================\n",
      "Epoch 7\n",
      "train_loss : 0.03407603194162948 val_loss : 0.7811341223120689\n",
      "train_accuracy : 98.804 val_accuracy : 83.748\n",
      "==================================================\n",
      "Epoch 8\n",
      "train_loss : 0.025819237804040312 val_loss : 0.8442422247976065\n",
      "train_accuracy : 99.176 val_accuracy : 83.628\n",
      "==================================================\n",
      "Epoch 9\n",
      "train_loss : 0.018475522113672923 val_loss : 0.9034850728958845\n",
      "train_accuracy : 99.348 val_accuracy : 84.444\n",
      "==================================================\n",
      "Epoch 10\n",
      "train_loss : 0.016399759305117185 val_loss : 0.86434887842834\n",
      "train_accuracy : 99.488 val_accuracy : 83.47200000000001\n",
      "==================================================\n"
     ]
    }
   ],
   "source": [
    "clip = 5\n",
    "epochs = 10 \n",
    "valid_loss_min = np.Inf\n",
    "# train for some number of epochs\n",
    "epoch_tr_loss,epoch_vl_loss = [],[]\n",
    "epoch_tr_acc,epoch_vl_acc = [],[]\n",
    "\n",
    "for epoch in range(epochs):\n",
    "    train_losses = []\n",
    "    train_acc = 0.0\n",
    "    model.train()\n",
    "    # initialize hidden state \n",
    "    h = model.init_hidden(batch_size)\n",
    "    for inputs, labels in train_loader:\n",
    "        \n",
    "        inputs, labels = inputs.to(device), labels.to(device)   \n",
    "        # Creating new variables for the hidden state, otherwise\n",
    "        # we'd backprop through the entire training history\n",
    "        h = tuple([each.data for each in h])\n",
    "        \n",
    "        model.zero_grad()\n",
    "        output,h = model(inputs,h)\n",
    "        \n",
    "        # calculate the loss and perform backprop\n",
    "        loss = criterion(output.squeeze(), labels.float())\n",
    "        loss.backward()\n",
    "        train_losses.append(loss.item())\n",
    "        # calculating accuracy\n",
    "        accuracy = acc(output,labels)\n",
    "        train_acc += accuracy\n",
    "        #`clip_grad_norm` helps prevent the exploding gradient problem in RNNs / LSTMs.\n",
    "        nn.utils.clip_grad_norm_(model.parameters(), clip)\n",
    "        optimizer.step()\n",
    " \n",
    "    \n",
    "        \n",
    "    val_h = model.init_hidden(batch_size)\n",
    "    val_losses = []\n",
    "    val_acc = 0.0\n",
    "    model.eval()\n",
    "    for inputs, labels in valid_loader:\n",
    "            val_h = tuple([each.data for each in val_h])\n",
    "\n",
    "            inputs, labels = inputs.to(device), labels.to(device)\n",
    "\n",
    "            output, val_h = model(inputs, val_h)\n",
    "            val_loss = criterion(output.squeeze(), labels.float())\n",
    "\n",
    "            val_losses.append(val_loss.item())\n",
    "            \n",
    "            accuracy = acc(output,labels)\n",
    "            val_acc += accuracy\n",
    "            \n",
    "    epoch_train_loss = np.mean(train_losses)\n",
    "    epoch_val_loss = np.mean(val_losses)\n",
    "    epoch_train_acc = train_acc/len(train_loader.dataset)\n",
    "    epoch_val_acc = val_acc/len(valid_loader.dataset)\n",
    "    epoch_tr_loss.append(epoch_train_loss)\n",
    "    epoch_vl_loss.append(epoch_val_loss)\n",
    "    epoch_tr_acc.append(epoch_train_acc)\n",
    "    epoch_vl_acc.append(epoch_val_acc)\n",
    "    print(f'Epoch {epoch+1}') \n",
    "    print(f'train_loss : {epoch_train_loss} val_loss : {epoch_val_loss}')\n",
    "    print(f'train_accuracy : {epoch_train_acc*100} val_accuracy : {epoch_val_acc*100}')\n",
    "    if epoch_val_loss <= valid_loss_min:\n",
    "        torch.save(model.state_dict(), './state_dict.pt')\n",
    "        print('Validation loss decreased ({:.6f} --> {:.6f}).  Saving model ...'.format(valid_loss_min,epoch_val_loss))\n",
    "        valid_loss_min = epoch_val_loss\n",
    "    print(25*'==')\n",
    "    "
   ]
  },
  {
   "cell_type": "markdown",
   "metadata": {
    "id": "i5zKRU-gX8Bg"
   },
   "source": [
    "绘制准确率和损失折线。"
   ]
  },
  {
   "cell_type": "code",
   "execution_count": 54,
   "metadata": {
    "colab": {
     "base_uri": "https://localhost:8080/",
     "height": 283
    },
    "id": "iiKrmCzoGvh0",
    "outputId": "7bc93533-7d8b-415f-e582-a97dbab687a4"
   },
   "outputs": [
    {
     "data": {
      "image/png": "[encoded data removed]",
      "text/plain": [
       "<Figure size 1440x432 with 2 Axes>"
      ]
     },
     "metadata": {
      "needs_background": "light",
      "tags": []
     },
     "output_type": "display_data"
    }
   ],
   "source": [
    "fig = plt.figure(figsize = (20, 6))\n",
    "plt.subplot(1, 2, 1)\n",
    "plt.plot(epoch_tr_acc, label='Train Acc')\n",
    "plt.plot(epoch_vl_acc, label='Validation Acc')\n",
    "plt.title(\"Accuracy\")\n",
    "plt.legend()\n",
    "plt.grid()\n",
    "    \n",
    "plt.subplot(1, 2, 2)\n",
    "plt.plot(epoch_tr_loss, label='Train loss')\n",
    "plt.plot(epoch_vl_loss, label='Validation loss')\n",
    "plt.title(\"Loss\")\n",
    "plt.legend()\n",
    "plt.grid()\n",
    "\n",
    "plt.show()"
   ]
  },
  {
   "cell_type": "markdown",
   "metadata": {
    "id": "aOnlk9nGYBtX"
   },
   "source": [
    "inference一下试试。"
   ]
  },
  {
   "cell_type": "code",
   "execution_count": 55,
   "metadata": {
    "id": "LxoD-7BqQsC5"
   },
   "outputs": [],
   "source": [
    "def predict_text(text):\n",
    "        word_seq = np.array([vocab[preprocess_string(word)] for word in text.split() \n",
    "                         if preprocess_string(word) in vocab.keys()])\n",
    "        word_seq = np.expand_dims(word_seq,axis=0)\n",
    "        pad =  torch.from_numpy(padding_(word_seq,500))\n",
    "        inputs = pad.to(device)\n",
    "        batch_size = 1\n",
    "        h = model.init_hidden(batch_size)\n",
    "        h = tuple([each.data for each in h])\n",
    "        output, h = model(inputs, h)\n",
    "        return(output.item())"
   ]
  },
  {
   "cell_type": "markdown",
   "metadata": {
    "id": "RkS5F2HdYFtm"
   },
   "source": [
    "行，效果挺好。"
   ]
  },
  {
   "cell_type": "code",
   "execution_count": 60,
   "metadata": {
    "colab": {
     "base_uri": "https://localhost:8080/"
    },
    "id": "X3FH58FxQ0xn",
    "outputId": "f5070a89-21c7-4819-8177-9eae41c3e4fc"
   },
   "outputs": [
    {
     "name": "stdout",
     "output_type": "stream",
     "text": [
      "If you keep rigid historical perspective out of it, this film is actually quite entertaining. It's got action, adventure and romance, and one of the premiere casting match-ups of the era with Errol Flynn and Olivia de Havilland in the lead roles. As evident on this board, the picture doesn't pass muster with purists who look for one hundred percent accuracy in their story telling. To get beyond that, one need only put aside the history book, and enjoy the story as if it were a work of fiction. I know, I know, that's hard to do when you consider Custer's Last Stand at the Little Big Horn and it's prominence in the history of post Civil War America. So I guess there's an unresolved quandary with the picture, no matter how you look at it.<br /><br />There's a lot to take in here though for the picture's two hour plus run time. Custer's arrival at West Point is probably the first head scratcher, riding up as he does in full military regalia. The practical joke by Sharp (Arthur Kennedy) putting him up in the Major's headquarters probably should have gotten them both in trouble.<br /><br />Ironically, a lot of scenes in this military film play for comedy, as in Custer's first meeting with Libby Bacon, and subsequent encounters that include tea reader Callie (Hattie McDaniel). I hadn't noticed it before in other films, but McDaniel reminded me an awful lot of another favorite character actor of mine from the Forties, Mantan Moreland. So much so that in one scene it looked like it might have been Moreland hamming it up in a dress. With that in mind, the owl scene was a hoot too.<br /><br />As for Flynn, it's interesting to note that a year earlier, he portrayed J.E.B. Stuart opposite Ronald Reagan's depiction of General Custer in \"Santa Fe Trail\", both vying for the attention of none other than Olivia de Havilland. In that film, Reagan put none of the arrogance and flamboyance into the character of Custer that history remembers, while in Flynn's portrayal here it's more than evident. But it doesn't come close to that of Richard Mulligan's take on the military hero in 1970's \"Little Big Man\". Let's just say that one was a bit over the top.<br /><br />The better take away the picture had for me was the manner in which Custer persevered to maintain his good name and not gamble it away on a risky business venture. That and his loyalty to the men he led in battle along with the discipline he developed over the course of the story. Most poignant was that final confrontation with arch rival Sharp just before riding into the Little Big Horn, in which he declared that hell or glory was entirely dependent on one's point of view. Earlier, a similar remark might have given us the best insight of all into Custer's character, when he stated - \"You take glory with you when it's your time to go\".\n",
      "======================================================================\n",
      "Actual sentiment is  : positive\n",
      "======================================================================\n",
      "Predicted sentiment is positive with a probability of 0.997259259223938\n"
     ]
    }
   ],
   "source": [
    "\n",
    "index = 30\n",
    "print(test_csv['review'][index])\n",
    "print('='*70)\n",
    "print(f'Actual sentiment is  : {test_csv[\"sentiment\"][index]}')\n",
    "print('='*70)\n",
    "pro = predict_text(test_csv['review'][index])\n",
    "status = \"positive\" if pro > 0.5 else \"negative\"\n",
    "pro = (1 - pro) if status == \"negative\" else pro\n",
    "print(f'Predicted sentiment is {status} with a probability of {pro}')"
   ]
  },
  {
   "cell_type": "code",
   "execution_count": 61,
   "metadata": {
    "colab": {
     "base_uri": "https://localhost:8080/"
    },
    "id": "BI_IbJyzQ2Y_",
    "outputId": "85598b05-bd7b-400f-be83-2fbd2c09f5a7"
   },
   "outputs": [
    {
     "name": "stdout",
     "output_type": "stream",
     "text": [
      "This is a great comedy, highlighting what it was like to live next door to racist bigot. But also shows that both main characters are actually as bad as each other. Based on the hit ITV comedy, this is very politically incorrect. And its all the better for it, comedy after all is to entertain. The movies only real drawback is there isnt much of a plot. However the cast are as great as usual. Jack Smethurst and Rudolph Walker make one hell of a team, playing off each other in a oneupmanship kind of way.It's been many years since i saw this movie and last week was finally able to buy it on dvd. The fact that the movie still contains genuine laugh out loud moments, means that i can recommend this movie, just like i would of back in the 1970's.\n",
      "======================================================================\n",
      "Actual sentiment is  : positive\n",
      "======================================================================\n",
      "Predicted sentiment is positive with a probability of 0.5756922960281372\n"
     ]
    }
   ],
   "source": [
    "\n",
    "index = 300\n",
    "print(test_csv['review'][index])\n",
    "print('='*70)\n",
    "print(f'Actual sentiment is  : {test_csv[\"sentiment\"][index]}')\n",
    "print('='*70)\n",
    "pro = predict_text(test_csv['review'][index])\n",
    "status = \"positive\" if pro > 0.5 else \"negative\"\n",
    "pro = (1 - pro) if status == \"negative\" else pro\n",
    "print(f'Predicted sentiment is {status} with a probability of {pro}')"
   ]
  },
  {
   "cell_type": "code",
   "execution_count": null,
   "metadata": {
    "id": "VswhAuLXRTCH"
   },
   "outputs": [],
   "source": []
  }
 ],
 "metadata": {
  "accelerator": "GPU",
  "colab": {
   "collapsed_sections": [],
   "name": "Experiment-OUC_LiuX.ipynb",
   "provenance": [],
   "toc_visible": true
  },
  "kernelspec": {
   "display_name": "Python 3",
   "language": "python",
   "name": "python3"
  },
  "language_info": {
   "codemirror_mode": {
    "name": "ipython",
    "version": 3
   },
   "file_extension": ".py",
   "mimetype": "text/x-python",
   "name": "python",
   "nbconvert_exporter": "python",
   "pygments_lexer": "ipython3",
   "version": "3.7.3"
  }
 },
 "nbformat": 4,
 "nbformat_minor": 1
}
