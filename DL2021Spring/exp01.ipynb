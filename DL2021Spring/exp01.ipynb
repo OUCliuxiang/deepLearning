{
 "cells": [
  {
   "cell_type": "markdown",
   "metadata": {},
   "source": [
    "# Preceptron实验报告"
   ]
  },
  {
   "cell_type": "markdown",
   "metadata": {},
   "source": [
    "## 导入库文件"
   ]
  },
  {
   "cell_type": "code",
   "execution_count": 2,
   "metadata": {},
   "outputs": [],
   "source": [
    "import numpy as np                  #   用于处理数组数据\n",
    "import matplotlib.pyplot as plt     #   用于画图"
   ]
  },
  {
   "cell_type": "markdown",
   "metadata": {},
   "source": [
    "### 随机生成1000组二维数据及标签"
   ]
  },
  {
   "cell_type": "code",
   "execution_count": 3,
   "metadata": {},
   "outputs": [],
   "source": [
    "mean1=[-1,0]\n",
    "cov1=[[1,0],[0,1]]\n",
    "mean2=[3,4]\n",
    "cov2=[[1,0],[0,1]]\n",
    "X1=np.random.multivariate_normal(mean1,cov1,500)\n",
    "X2=np.random.multivariate_normal(mean2,cov2,500)\n",
    "X = np.row_stack((X1,X2))\n",
    "y = np.ones(1000)\n",
    "y[500:] = 0"
   ]
  },
  {
   "cell_type": "markdown",
   "metadata": {},
   "source": [
    "### 定义激活函数"
   ]
  },
  {
   "cell_type": "code",
   "execution_count": 4,
   "metadata": {},
   "outputs": [],
   "source": [
    "def sgn(X, w, b):\n",
    "    p=X.dot(w)+b\n",
    "    p[p >=0]=1\n",
    "    p[p < 0]=0\n",
    "    return p"
   ]
  },
  {
   "cell_type": "markdown",
   "metadata": {},
   "source": [
    "### 随机生成权重及偏置\n"
   ]
  },
  {
   "cell_type": "code",
   "execution_count": 5,
   "metadata": {},
   "outputs": [
    {
     "name": "stdout",
     "output_type": "stream",
     "text": [
      "[3.23484053 3.4333186 ] 3.8068633988430896\n"
     ]
    }
   ],
   "source": [
    "m,n=X.shape\n",
    "w = np.random.random(n)*X.max(0)\n",
    "b = np.random.random()*X.max()\n",
    "print(w, b)"
   ]
  },
  {
   "cell_type": "markdown",
   "metadata": {},
   "source": [
    "### 迭代n次并绘制实时图像\n",
    "**注意：如需绘制实时图像，请不要在jupyter下执行程序，应使用正常python xxx.py执行**"
   ]
  },
  {
   "cell_type": "code",
   "execution_count": 6,
   "metadata": {},
   "outputs": [
    {
     "data": {
      "image/png": "[encoded data removed]",
      "text/plain": [
       "<Figure size 432x288 with 1 Axes>"
      ]
     },
     "metadata": {
      "needs_background": "light"
     },
     "output_type": "display_data"
    },
    {
     "name": "stdout",
     "output_type": "stream",
     "text": [
      "loss: -0.297000\n",
      "acc:  0.297000\n"
     ]
    },
    {
     "data": {
      "text/plain": [
       "<Figure size 432x288 with 0 Axes>"
      ]
     },
     "metadata": {},
     "output_type": "display_data"
    }
   ],
   "source": [
    "iters = 0\n",
    "n = 1  \n",
    "# 自行更改n值。由于在jupyter中运行时，plt无法自动刷新，\n",
    "# 而是不断新加显示，达不到动态效果，故此处仅以n=1证明代码work\n",
    "\n",
    "plt.ion()                                           # 实时刷新\n",
    "while iters < n:\n",
    "    iters += 1\n",
    "    p = sgn(X, w, b)                                # 得到预测值\n",
    "    w += (y-p).dot(X)                               # 权重更新  \n",
    "    b += sum(y-p) / len(y)                          # 偏置更新      \n",
    "    loss = sum(y-p) / len(y)                        # loss计算\n",
    "    acc = (len(y) - np.count_nonzero(y-p))/len(y)   # 准确度计算\n",
    "    \n",
    "    # 绘图参数设置\n",
    "    plt.xlim(X[:,0].min()-1,X[:,0].max()+1)         \n",
    "    plt.ylim(X[:,1].min()-1,X[:,1].max()+1)\n",
    "    plt.title(\"%s\"%str(iters))\n",
    "\n",
    "    # 绘制数据点\n",
    "    plt.scatter(X1[:,0],X1[:,1])\n",
    "    plt.scatter(X2[:,0],X2[:,1])\n",
    "    \n",
    "    # 绘制感知机分割线\n",
    "    x = np.arange(X[:,0].min()-1,X[:,0].max()+1,0.01)\n",
    "    plt.plot(x, (-w[0]*x-b)/w[1])\n",
    "    \n",
    "    # 显示\n",
    "    plt.show()\n",
    "    plt.pause(0.001)\n",
    "    plt.clf()\n",
    "\n",
    "# 打印最终结果\n",
    "print(\"loss: %f\" % loss)\n",
    "print(\"acc:  %f\" % acc) "
   ]
  },
  {
   "cell_type": "code",
   "execution_count": null,
   "metadata": {},
   "outputs": [],
   "source": []
  }
 ],
 "metadata": {
  "kernelspec": {
   "display_name": "Python 3",
   "language": "python",
   "name": "python3"
  },
  "language_info": {
   "codemirror_mode": {
    "name": "ipython",
    "version": 3
   },
   "file_extension": ".py",
   "mimetype": "text/x-python",
   "name": "python",
   "nbconvert_exporter": "python",
   "pygments_lexer": "ipython3",
   "version": "3.7.3"
  }
 },
 "nbformat": 4,
 "nbformat_minor": 2
}
